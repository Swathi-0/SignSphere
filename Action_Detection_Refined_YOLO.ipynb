{
 "cells": [
  {
   "cell_type": "code",
   "execution_count": null,
   "id": "703affd1",
   "metadata": {},
   "outputs": [],
   "source": [
    "\n",
    "!pip install ultralytics\n",
    "import torch\n",
    "from ultralytics import YOLO\n",
    "import cv2\n",
    "import numpy as np\n",
    "import time\n",
    "import matplotlib.pyplot as plt\n"
   ]
  },
  {
   "cell_type": "code",
   "execution_count": null,
   "id": "aa7ab241",
   "metadata": {},
   "outputs": [],
   "source": [
    "\n",
    "# Load a pre-trained YOLO model (e.g., YOLOv8)\n",
    "model = YOLO('yolov8n.pt')  # Using YOLOv8 nano model for speed; change to 'yolov8s.pt' for better accuracy\n"
   ]
  },
  {
   "cell_type": "code",
   "execution_count": null,
   "id": "0374869a",
   "metadata": {},
   "outputs": [],
   "source": [
    "\n",
    "# Function to process video frames using YOLO\n",
    "def detect_actions_with_yolo(video_path):\n",
    "    cap = cv2.VideoCapture(video_path)\n",
    "    while cap.isOpened():\n",
    "        ret, frame = cap.read()\n",
    "        if not ret:\n",
    "            break\n",
    "        \n",
    "        # YOLO inference\n",
    "        results = model(frame)\n",
    "        \n",
    "        # Annotate detected actions on the frame\n",
    "        for result in results.xyxy[0]:  # Iterate through detected objects\n",
    "            x1, y1, x2, y2, conf, cls = result.tolist()\n",
    "            label = f\"{model.names[int(cls)]} {conf:.2f}\"\n",
    "            cv2.rectangle(frame, (int(x1), int(y1)), (int(x2), int(y2)), (0, 255, 0), 2)\n",
    "            cv2.putText(frame, label, (int(x1), int(y1) - 10), cv2.FONT_HERSHEY_SIMPLEX, 0.5, (0, 255, 0), 2)\n",
    "        \n",
    "        # Display the frame (optional)\n",
    "        cv2.imshow('YOLO Action Detection', frame)\n",
    "        if cv2.waitKey(1) & 0xFF == ord('q'):\n",
    "            break\n",
    "\n",
    "    cap.release()\n",
    "    cv2.destroyAllWindows()\n",
    "\n",
    "# Example usage (replace 'video.mp4' with your video file path)\n",
    "# detect_actions_with_yolo('video.mp4')\n"
   ]
  }
 ],
 "metadata": {},
 "nbformat": 4,
 "nbformat_minor": 5
}
